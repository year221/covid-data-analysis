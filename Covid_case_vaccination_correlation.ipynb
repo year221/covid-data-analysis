{
 "cells": [
  {
   "cell_type": "markdown",
   "id": "8c3f93c7-bd3b-4c5c-85d9-2f812722ff30",
   "metadata": {},
   "source": [
    "# Correlation between COVID daily cases and vaccination percentage"
   ]
  },
  {
   "cell_type": "code",
   "execution_count": 1,
   "id": "85b478c5-295f-4966-84f3-127c165a989f",
   "metadata": {},
   "outputs": [],
   "source": [
    "from scipy import stats\n",
    "import pandas as pd\n",
    "import altair as alt\n",
    "import requests"
   ]
  },
  {
   "cell_type": "code",
   "execution_count": 2,
   "id": "ee4a5bb1-176c-4c75-b60c-e98c93339b9a",
   "metadata": {},
   "outputs": [],
   "source": [
    "# COVID data is obtained from NYT's github\n",
    "state_df = pd.read_csv(\n",
    "    'https://raw.githubusercontent.com/nytimes/covid-19-data/master/rolling-averages/us-states.csv',\n",
    "    parse_dates=['date'])"
   ]
  },
  {
   "cell_type": "code",
   "execution_count": 3,
   "id": "40946f41-111c-4d35-bd37-b271151e06cd",
   "metadata": {},
   "outputs": [],
   "source": [
    "last_moving_average_df = (\n",
    "    state_df\n",
    "    .sort_values(by=['state','date'], ascending=True)\n",
    "    .groupby('state')\n",
    "    .tail(n=1)\n",
    ")"
   ]
  },
  {
   "cell_type": "code",
   "execution_count": 4,
   "id": "5608b0d8-2a03-4b57-b8d4-744b6001b34e",
   "metadata": {},
   "outputs": [],
   "source": [
    "# Vaccination data is from CDC website\n",
    "r=requests.get('https://covid.cdc.gov/covid-data-tracker/COVIDData/getAjaxData?id=vaccination_data')\n",
    "json_data = r.json()"
   ]
  },
  {
   "cell_type": "code",
   "execution_count": 5,
   "id": "50fea3e1-dda0-47cd-8f5f-008d04a15d74",
   "metadata": {},
   "outputs": [],
   "source": [
    "vaccination_df = pd.DataFrame(json_data['vaccination_data'])"
   ]
  },
  {
   "cell_type": "code",
   "execution_count": 6,
   "id": "d07731c4-89b9-44bc-aa5e-c9cb3844b3ee",
   "metadata": {},
   "outputs": [],
   "source": [
    "# merge covid moving average cases with administrated doses\n",
    "vaccine_covid_df = (\n",
    "    pd.merge(\n",
    "        last_moving_average_df.loc[:,['state','cases_avg_per_100k', 'deaths_avg_per_100k']],\n",
    "        vaccination_df\n",
    "        .assign(state = lambda x: x.LongName)\n",
    "        .assign(population = lambda x: x.Census2019)\n",
    "        .loc[:, ['state','population', 'Admin_Per_100K', 'Admin_Per_100k_18Plus', 'Series_Complete_Pop_Pct', 'Series_Complete_12PlusPop_Pct']],\n",
    "        on = 'state',\n",
    "        how='inner'\n",
    "    )\n",
    ")"
   ]
  },
  {
   "cell_type": "code",
   "execution_count": 7,
   "id": "1ab710e5-ba16-4545-bd7e-0f2ace8633b3",
   "metadata": {},
   "outputs": [],
   "source": [
    "corr, p_val = stats.spearmanr(vaccine_covid_df['Series_Complete_Pop_Pct'], vaccine_covid_df['cases_avg_per_100k'])"
   ]
  },
  {
   "cell_type": "code",
   "execution_count": 8,
   "id": "7896516b-4ce0-4b35-b953-2258947b0c27",
   "metadata": {},
   "outputs": [
    {
     "data": {
      "text/html": [
       "\n",
       "<div id=\"altair-viz-b0543fed6f1143ffbbacd399edf1d9bf\"></div>\n",
       "<script type=\"text/javascript\">\n",
       "  (function(spec, embedOpt){\n",
       "    let outputDiv = document.currentScript.previousElementSibling;\n",
       "    if (outputDiv.id !== \"altair-viz-b0543fed6f1143ffbbacd399edf1d9bf\") {\n",
       "      outputDiv = document.getElementById(\"altair-viz-b0543fed6f1143ffbbacd399edf1d9bf\");\n",
       "    }\n",
       "    const paths = {\n",
       "      \"vega\": \"https://cdn.jsdelivr.net/npm//vega@5?noext\",\n",
       "      \"vega-lib\": \"https://cdn.jsdelivr.net/npm//vega-lib?noext\",\n",
       "      \"vega-lite\": \"https://cdn.jsdelivr.net/npm//vega-lite@4.8.1?noext\",\n",
       "      \"vega-embed\": \"https://cdn.jsdelivr.net/npm//vega-embed@6?noext\",\n",
       "    };\n",
       "\n",
       "    function loadScript(lib) {\n",
       "      return new Promise(function(resolve, reject) {\n",
       "        var s = document.createElement('script');\n",
       "        s.src = paths[lib];\n",
       "        s.async = true;\n",
       "        s.onload = () => resolve(paths[lib]);\n",
       "        s.onerror = () => reject(`Error loading script: ${paths[lib]}`);\n",
       "        document.getElementsByTagName(\"head\")[0].appendChild(s);\n",
       "      });\n",
       "    }\n",
       "\n",
       "    function showError(err) {\n",
       "      outputDiv.innerHTML = `<div class=\"error\" style=\"color:red;\">${err}</div>`;\n",
       "      throw err;\n",
       "    }\n",
       "\n",
       "    function displayChart(vegaEmbed) {\n",
       "      vegaEmbed(outputDiv, spec, embedOpt)\n",
       "        .catch(err => showError(`Javascript Error: ${err.message}<br>This usually means there's a typo in your chart specification. See the javascript console for the full traceback.`));\n",
       "    }\n",
       "\n",
       "    if(typeof define === \"function\" && define.amd) {\n",
       "      requirejs.config({paths});\n",
       "      require([\"vega-embed\"], displayChart, err => showError(`Error loading script: ${err.message}`));\n",
       "    } else if (typeof vegaEmbed === \"function\") {\n",
       "      displayChart(vegaEmbed);\n",
       "    } else {\n",
       "      loadScript(\"vega\")\n",
       "        .then(() => loadScript(\"vega-lite\"))\n",
       "        .then(() => loadScript(\"vega-embed\"))\n",
       "        .catch(showError)\n",
       "        .then(() => displayChart(vegaEmbed));\n",
       "    }\n",
       "  })({\"config\": {\"view\": {\"continuousWidth\": 400, \"continuousHeight\": 300}}, \"data\": {\"name\": \"data-c014468e2e4e6216060f0502befdaf2a\"}, \"mark\": \"point\", \"encoding\": {\"fill\": {\"type\": \"quantitative\", \"field\": \"cases_avg_per_100k\"}, \"size\": {\"type\": \"quantitative\", \"field\": \"population\"}, \"tooltip\": {\"type\": \"nominal\", \"field\": \"state\"}, \"x\": {\"type\": \"quantitative\", \"field\": \"Series_Complete_Pop_Pct\"}, \"y\": {\"type\": \"quantitative\", \"field\": \"cases_avg_per_100k\"}}, \"title\": [\"Correlation between cases per day and vaccination pct\", \"Date for vaccination data 2021-06-20\", \"Date for COVID case data 2021-06-19 00:00:00\", \"Correlation test (Spearman) p-value: 0.0002\"], \"$schema\": \"https://vega.github.io/schema/vega-lite/v4.8.1.json\", \"datasets\": {\"data-c014468e2e4e6216060f0502befdaf2a\": [{\"state\": \"Alabama\", \"cases_avg_per_100k\": 3.89, \"deaths_avg_per_100k\": 0.12, \"population\": 4903185.0, \"Admin_Per_100K\": 66940.0, \"Admin_Per_100k_18Plus\": 84322.0, \"Series_Complete_Pop_Pct\": 31.9, \"Series_Complete_12PlusPop_Pct\": 37.3}, {\"state\": \"Alaska\", \"cases_avg_per_100k\": 4.3, \"deaths_avg_per_100k\": 0.0, \"population\": 731545.0, \"Admin_Per_100K\": 87478.0, \"Admin_Per_100k_18Plus\": 110277.0, \"Series_Complete_Pop_Pct\": 41.7, \"Series_Complete_12PlusPop_Pct\": 50.0}, {\"state\": \"Arizona\", \"cases_avg_per_100k\": 5.77, \"deaths_avg_per_100k\": 0.15, \"population\": 7278717.0, \"Admin_Per_100K\": 87201.0, \"Admin_Per_100k_18Plus\": 107879.0, \"Series_Complete_Pop_Pct\": 39.0, \"Series_Complete_12PlusPop_Pct\": 45.7}, {\"state\": \"Arkansas\", \"cases_avg_per_100k\": 7.57, \"deaths_avg_per_100k\": 0.09, \"population\": 3017804.0, \"Admin_Per_100K\": 72433.0, \"Admin_Per_100k_18Plus\": 91373.0, \"Series_Complete_Pop_Pct\": 33.3, \"Series_Complete_12PlusPop_Pct\": 39.3}, {\"state\": \"California\", \"cases_avg_per_100k\": 2.27, \"deaths_avg_per_100k\": 0.06, \"population\": 39512223.0, \"Admin_Per_100K\": 104977.0, \"Admin_Per_100k_18Plus\": 128122.0, \"Series_Complete_Pop_Pct\": 48.1, \"Series_Complete_12PlusPop_Pct\": 56.4}, {\"state\": \"Colorado\", \"cases_avg_per_100k\": 7.78, \"deaths_avg_per_100k\": 0.11, \"population\": 5758736.0, \"Admin_Per_100K\": 104838.0, \"Admin_Per_100k_18Plus\": 126924.0, \"Series_Complete_Pop_Pct\": 50.1, \"Series_Complete_12PlusPop_Pct\": 58.3}, {\"state\": \"Connecticut\", \"cases_avg_per_100k\": 1.26, \"deaths_avg_per_100k\": 0.04, \"population\": 3565287.0, \"Admin_Per_100K\": 120890.0, \"Admin_Per_100k_18Plus\": 143246.0, \"Series_Complete_Pop_Pct\": 58.8, \"Series_Complete_12PlusPop_Pct\": 67.5}, {\"state\": \"Delaware\", \"cases_avg_per_100k\": 3.58, \"deaths_avg_per_100k\": 0.04, \"population\": 973764.0, \"Admin_Per_100K\": 103295.0, \"Admin_Per_100k_18Plus\": 124593.0, \"Series_Complete_Pop_Pct\": 47.7, \"Series_Complete_12PlusPop_Pct\": 55.3}, {\"state\": \"District of Columbia\", \"cases_avg_per_100k\": 1.72, \"deaths_avg_per_100k\": 0.08, \"population\": 705749.0, \"Admin_Per_100K\": 119457.0, \"Admin_Per_100k_18Plus\": 142691.0, \"Series_Complete_Pop_Pct\": 50.6, \"Series_Complete_12PlusPop_Pct\": 58.6}, {\"state\": \"Florida\", \"cases_avg_per_100k\": 6.71, \"deaths_avg_per_100k\": 0.19, \"population\": 21477737.0, \"Admin_Per_100K\": 95342.0, \"Admin_Per_100k_18Plus\": 115225.0, \"Series_Complete_Pop_Pct\": 44.1, \"Series_Complete_12PlusPop_Pct\": 50.6}, {\"state\": \"Georgia\", \"cases_avg_per_100k\": 3.18, \"deaths_avg_per_100k\": 0.2, \"population\": 10617423.0, \"Admin_Per_100K\": 76291.0, \"Admin_Per_100k_18Plus\": 96760.0, \"Series_Complete_Pop_Pct\": 34.8, \"Series_Complete_12PlusPop_Pct\": 41.1}, {\"state\": \"Guam\", \"cases_avg_per_100k\": 2.63, \"deaths_avg_per_100k\": 0.0, \"population\": 165768.0, \"Admin_Per_100K\": 109153.0, \"Admin_Per_100k_18Plus\": 131154.0, \"Series_Complete_Pop_Pct\": 51.3, \"Series_Complete_12PlusPop_Pct\": 60.1}, {\"state\": \"Hawaii\", \"cases_avg_per_100k\": 2.76, \"deaths_avg_per_100k\": 0.05, \"population\": 1415872.0, \"Admin_Per_100K\": 117329.0, \"Admin_Per_100k_18Plus\": 141505.0, \"Series_Complete_Pop_Pct\": 50.9, \"Series_Complete_12PlusPop_Pct\": 59.4}, {\"state\": \"Idaho\", \"cases_avg_per_100k\": 3.93, \"deaths_avg_per_100k\": 0.05, \"population\": 1787065.0, \"Admin_Per_100K\": 72788.0, \"Admin_Per_100k_18Plus\": 97128.0, \"Series_Complete_Pop_Pct\": 35.2, \"Series_Complete_12PlusPop_Pct\": 42.1}, {\"state\": \"Illinois\", \"cases_avg_per_100k\": 1.52, \"deaths_avg_per_100k\": 0.11, \"population\": 12671821.0, \"Admin_Per_100K\": 99224.0, \"Admin_Per_100k_18Plus\": 120807.0, \"Series_Complete_Pop_Pct\": 44.2, \"Series_Complete_12PlusPop_Pct\": 51.6}, {\"state\": \"Indiana\", \"cases_avg_per_100k\": 3.98, \"deaths_avg_per_100k\": 0.11, \"population\": 6732219.0, \"Admin_Per_100K\": 81304.0, \"Admin_Per_100k_18Plus\": 102064.0, \"Series_Complete_Pop_Pct\": 39.0, \"Series_Complete_12PlusPop_Pct\": 46.0}, {\"state\": \"Iowa\", \"cases_avg_per_100k\": 2.37, \"deaths_avg_per_100k\": 0.06, \"population\": 3155070.0, \"Admin_Per_100K\": 94734.0, \"Admin_Per_100k_18Plus\": 118085.0, \"Series_Complete_Pop_Pct\": 47.0, \"Series_Complete_12PlusPop_Pct\": 55.4}, {\"state\": \"Kansas\", \"cases_avg_per_100k\": 3.52, \"deaths_avg_per_100k\": 0.11, \"population\": 2913314.0, \"Admin_Per_100K\": 83696.0, \"Admin_Per_100k_18Plus\": 106452.0, \"Series_Complete_Pop_Pct\": 40.9, \"Series_Complete_12PlusPop_Pct\": 48.6}, {\"state\": \"Kentucky\", \"cases_avg_per_100k\": 3.28, \"deaths_avg_per_100k\": 0.07, \"population\": 4467673.0, \"Admin_Per_100K\": 87350.0, \"Admin_Per_100k_18Plus\": 108757.0, \"Series_Complete_Pop_Pct\": 42.1, \"Series_Complete_12PlusPop_Pct\": 49.4}, {\"state\": \"Louisiana\", \"cases_avg_per_100k\": 6.45, \"deaths_avg_per_100k\": 0.12, \"population\": 4648794.0, \"Admin_Per_100K\": 70402.0, \"Admin_Per_100k_18Plus\": 89962.0, \"Series_Complete_Pop_Pct\": 33.7, \"Series_Complete_12PlusPop_Pct\": 40.0}, {\"state\": \"Maine\", \"cases_avg_per_100k\": 2.7, \"deaths_avg_per_100k\": 0.1, \"population\": 1344212.0, \"Admin_Per_100K\": 117742.0, \"Admin_Per_100k_18Plus\": 137543.0, \"Series_Complete_Pop_Pct\": 59.8, \"Series_Complete_12PlusPop_Pct\": 67.9}, {\"state\": \"Maryland\", \"cases_avg_per_100k\": 1.21, \"deaths_avg_per_100k\": 0.06, \"population\": 6045680.0, \"Admin_Per_100K\": 110157.0, \"Admin_Per_100k_18Plus\": 133456.0, \"Series_Complete_Pop_Pct\": 53.8, \"Series_Complete_12PlusPop_Pct\": 63.0}, {\"state\": \"Massachusetts\", \"cases_avg_per_100k\": 1.07, \"deaths_avg_per_100k\": 0.06, \"population\": 6892503.0, \"Admin_Per_100K\": 125588.0, \"Admin_Per_100k_18Plus\": 147488.0, \"Series_Complete_Pop_Pct\": 59.8, \"Series_Complete_12PlusPop_Pct\": 68.3}, {\"state\": \"Michigan\", \"cases_avg_per_100k\": 2.01, \"deaths_avg_per_100k\": 0.12, \"population\": 9986857.0, \"Admin_Per_100K\": 92516.0, \"Admin_Per_100k_18Plus\": 112798.0, \"Series_Complete_Pop_Pct\": 45.8, \"Series_Complete_12PlusPop_Pct\": 53.3}, {\"state\": \"Minnesota\", \"cases_avg_per_100k\": 2.01, \"deaths_avg_per_100k\": 0.08, \"population\": 5639632.0, \"Admin_Per_100K\": 101870.0, \"Admin_Per_100k_18Plus\": 125261.0, \"Series_Complete_Pop_Pct\": 50.2, \"Series_Complete_12PlusPop_Pct\": 59.1}, {\"state\": \"Mississippi\", \"cases_avg_per_100k\": 4.0, \"deaths_avg_per_100k\": 0.09, \"population\": 2976149.0, \"Admin_Per_100K\": 62547.0, \"Admin_Per_100k_18Plus\": 80352.0, \"Series_Complete_Pop_Pct\": 28.9, \"Series_Complete_12PlusPop_Pct\": 34.1}, {\"state\": \"Missouri\", \"cases_avg_per_100k\": 10.46, \"deaths_avg_per_100k\": 0.1, \"population\": 6137428.0, \"Admin_Per_100K\": 81618.0, \"Admin_Per_100k_18Plus\": 101436.0, \"Series_Complete_Pop_Pct\": 38.1, \"Series_Complete_12PlusPop_Pct\": 44.6}, {\"state\": \"Montana\", \"cases_avg_per_100k\": 5.44, \"deaths_avg_per_100k\": 0.13, \"population\": 1068778.0, \"Admin_Per_100K\": 86139.0, \"Admin_Per_100k_18Plus\": 105810.0, \"Series_Complete_Pop_Pct\": 41.6, \"Series_Complete_12PlusPop_Pct\": 48.4}, {\"state\": \"Nebraska\", \"cases_avg_per_100k\": 1.43, \"deaths_avg_per_100k\": 0.01, \"population\": 1934408.0, \"Admin_Per_100K\": 92290.0, \"Admin_Per_100k_18Plus\": 117439.0, \"Series_Complete_Pop_Pct\": 45.2, \"Series_Complete_12PlusPop_Pct\": 54.0}, {\"state\": \"Nevada\", \"cases_avg_per_100k\": 8.05, \"deaths_avg_per_100k\": 0.13, \"population\": 3080156.0, \"Admin_Per_100K\": 87105.0, \"Admin_Per_100k_18Plus\": 108610.0, \"Series_Complete_Pop_Pct\": 40.4, \"Series_Complete_12PlusPop_Pct\": 47.4}, {\"state\": \"New Hampshire\", \"cases_avg_per_100k\": 1.95, \"deaths_avg_per_100k\": 0.07, \"population\": 1359711.0, \"Admin_Per_100K\": 110141.0, \"Admin_Per_100k_18Plus\": 128883.0, \"Series_Complete_Pop_Pct\": 54.7, \"Series_Complete_12PlusPop_Pct\": 62.0}, {\"state\": \"New Jersey\", \"cases_avg_per_100k\": 2.71, \"deaths_avg_per_100k\": 0.07, \"population\": 8882190.0, \"Admin_Per_100K\": 111180.0, \"Admin_Per_100k_18Plus\": 135178.0, \"Series_Complete_Pop_Pct\": 54.5, \"Series_Complete_12PlusPop_Pct\": 63.5}, {\"state\": \"New Mexico\", \"cases_avg_per_100k\": 4.46, \"deaths_avg_per_100k\": 0.13, \"population\": 2096829.0, \"Admin_Per_100K\": 109316.0, \"Admin_Per_100k_18Plus\": 134256.0, \"Series_Complete_Pop_Pct\": 52.4, \"Series_Complete_12PlusPop_Pct\": 61.4}, {\"state\": \"North Carolina\", \"cases_avg_per_100k\": 3.3, \"deaths_avg_per_100k\": 0.1, \"population\": 10488084.0, \"Admin_Per_100K\": 81279.0, \"Admin_Per_100k_18Plus\": 100206.0, \"Series_Complete_Pop_Pct\": 38.6, \"Series_Complete_12PlusPop_Pct\": 45.0}, {\"state\": \"North Dakota\", \"cases_avg_per_100k\": 2.49, \"deaths_avg_per_100k\": 0.06, \"population\": 762062.0, \"Admin_Per_100K\": 83319.0, \"Admin_Per_100k_18Plus\": 105857.0, \"Series_Complete_Pop_Pct\": 38.2, \"Series_Complete_12PlusPop_Pct\": 45.7}, {\"state\": \"Northern Mariana Islands\", \"cases_avg_per_100k\": 0.0, \"deaths_avg_per_100k\": 0.0, \"population\": 56882.0, \"Admin_Per_100K\": 93177.0, \"Admin_Per_100k_18Plus\": 112304.0, \"Series_Complete_Pop_Pct\": 44.1, \"Series_Complete_12PlusPop_Pct\": 51.7}, {\"state\": \"Ohio\", \"cases_avg_per_100k\": 2.37, \"deaths_avg_per_100k\": 0.09, \"population\": 11689100.0, \"Admin_Per_100K\": 89740.0, \"Admin_Per_100k_18Plus\": 110654.0, \"Series_Complete_Pop_Pct\": 43.6, \"Series_Complete_12PlusPop_Pct\": 50.9}, {\"state\": \"Oklahoma\", \"cases_avg_per_100k\": 4.12, \"deaths_avg_per_100k\": 0.1, \"population\": 3956971.0, \"Admin_Per_100K\": 80691.0, \"Admin_Per_100k_18Plus\": 103080.0, \"Series_Complete_Pop_Pct\": 37.3, \"Series_Complete_12PlusPop_Pct\": 44.3}, {\"state\": \"Oregon\", \"cases_avg_per_100k\": 5.7, \"deaths_avg_per_100k\": 0.08, \"population\": 4217737.0, \"Admin_Per_100K\": 105094.0, \"Admin_Per_100k_18Plus\": 125483.0, \"Series_Complete_Pop_Pct\": 51.4, \"Series_Complete_12PlusPop_Pct\": 59.4}, {\"state\": \"Pennsylvania\", \"cases_avg_per_100k\": 2.2, \"deaths_avg_per_100k\": 0.1, \"population\": 12801989.0, \"Admin_Per_100K\": 106310.0, \"Admin_Per_100k_18Plus\": 128401.0, \"Series_Complete_Pop_Pct\": 48.4, \"Series_Complete_12PlusPop_Pct\": 55.9}, {\"state\": \"Puerto Rico\", \"cases_avg_per_100k\": 1.46, \"deaths_avg_per_100k\": 0.04, \"population\": 3193694.0, \"Admin_Per_100K\": 94861.0, \"Admin_Per_100k_18Plus\": 109970.0, \"Series_Complete_Pop_Pct\": 43.0, \"Series_Complete_12PlusPop_Pct\": 48.2}, {\"state\": \"Rhode Island\", \"cases_avg_per_100k\": 2.29, \"deaths_avg_per_100k\": 0.03, \"population\": 1059361.0, \"Admin_Per_100K\": 117440.0, \"Admin_Per_100k_18Plus\": 138463.0, \"Series_Complete_Pop_Pct\": 56.9, \"Series_Complete_12PlusPop_Pct\": 65.0}, {\"state\": \"South Carolina\", \"cases_avg_per_100k\": 1.78, \"deaths_avg_per_100k\": 0.06, \"population\": 5148714.0, \"Admin_Per_100K\": 78225.0, \"Admin_Per_100k_18Plus\": 96938.0, \"Series_Complete_Pop_Pct\": 36.9, \"Series_Complete_12PlusPop_Pct\": 42.9}, {\"state\": \"South Dakota\", \"cases_avg_per_100k\": 0.81, \"deaths_avg_per_100k\": 0.02, \"population\": 884659.0, \"Admin_Per_100K\": 91071.0, \"Admin_Per_100k_18Plus\": 116585.0, \"Series_Complete_Pop_Pct\": 44.5, \"Series_Complete_12PlusPop_Pct\": 53.3}, {\"state\": \"Tennessee\", \"cases_avg_per_100k\": 1.29, \"deaths_avg_per_100k\": 0.04, \"population\": 6829174.0, \"Admin_Per_100K\": 75453.0, \"Admin_Per_100k_18Plus\": 94343.0, \"Series_Complete_Pop_Pct\": 34.4, \"Series_Complete_12PlusPop_Pct\": 40.3}, {\"state\": \"Texas\", \"cases_avg_per_100k\": 4.05, \"deaths_avg_per_100k\": 0.09, \"population\": 28995881.0, \"Admin_Per_100K\": 86221.0, \"Admin_Per_100k_18Plus\": 110419.0, \"Series_Complete_Pop_Pct\": 39.7, \"Series_Complete_12PlusPop_Pct\": 47.7}, {\"state\": \"Utah\", \"cases_avg_per_100k\": 8.89, \"deaths_avg_per_100k\": 0.02, \"population\": 3205958.0, \"Admin_Per_100K\": 86061.0, \"Admin_Per_100k_18Plus\": 114641.0, \"Series_Complete_Pop_Pct\": 35.9, \"Series_Complete_12PlusPop_Pct\": 44.4}, {\"state\": \"Vermont\", \"cases_avg_per_100k\": 0.92, \"deaths_avg_per_100k\": 0.0, \"population\": 623989.0, \"Admin_Per_100K\": 134337.0, \"Admin_Per_100k_18Plus\": 155325.0, \"Series_Complete_Pop_Pct\": 64.1, \"Series_Complete_12PlusPop_Pct\": 72.6}, {\"state\": \"Virgin Islands\", \"cases_avg_per_100k\": 8.34, \"deaths_avg_per_100k\": 0.27, \"population\": 104680.0, \"Admin_Per_100K\": 72559.0, \"Admin_Per_100k_18Plus\": 90959.0, \"Series_Complete_Pop_Pct\": 32.4, \"Series_Complete_12PlusPop_Pct\": 37.9}, {\"state\": \"Virginia\", \"cases_avg_per_100k\": 1.55, \"deaths_avg_per_100k\": 0.08, \"population\": 8535519.0, \"Admin_Per_100K\": 105739.0, \"Admin_Per_100k_18Plus\": 127707.0, \"Series_Complete_Pop_Pct\": 50.2, \"Series_Complete_12PlusPop_Pct\": 58.5}, {\"state\": \"Washington\", \"cases_avg_per_100k\": 5.77, \"deaths_avg_per_100k\": 0.09, \"population\": 7614893.0, \"Admin_Per_100K\": 109454.0, \"Admin_Per_100k_18Plus\": 132895.0, \"Series_Complete_Pop_Pct\": 52.7, \"Series_Complete_12PlusPop_Pct\": 61.7}, {\"state\": \"West Virginia\", \"cases_avg_per_100k\": 3.53, \"deaths_avg_per_100k\": 0.11, \"population\": 1792147.0, \"Admin_Per_100K\": 76992.0, \"Admin_Per_100k_18Plus\": 92755.0, \"Series_Complete_Pop_Pct\": 36.2, \"Series_Complete_12PlusPop_Pct\": 41.6}, {\"state\": \"Wisconsin\", \"cases_avg_per_100k\": 1.46, \"deaths_avg_per_100k\": 0.08, \"population\": 5822434.0, \"Admin_Per_100K\": 99178.0, \"Admin_Per_100k_18Plus\": 121514.0, \"Series_Complete_Pop_Pct\": 47.8, \"Series_Complete_12PlusPop_Pct\": 55.7}, {\"state\": \"Wyoming\", \"cases_avg_per_100k\": 9.26, \"deaths_avg_per_100k\": 0.22, \"population\": 578759.0, \"Admin_Per_100K\": 71379.0, \"Admin_Per_100k_18Plus\": 90426.0, \"Series_Complete_Pop_Pct\": 33.6, \"Series_Complete_12PlusPop_Pct\": 39.6}]}}, {\"mode\": \"vega-lite\"});\n",
       "</script>"
      ],
      "text/plain": [
       "alt.Chart(...)"
      ]
     },
     "execution_count": 8,
     "metadata": {},
     "output_type": "execute_result"
    }
   ],
   "source": [
    "(\n",
    "    alt.Chart(\n",
    "        vaccine_covid_df, \n",
    "        title=[\n",
    "            f'Correlation between cases per day and vaccination pct',\n",
    "            f\"Date for vaccination data {vaccination_df['Date'].tail(1).item()}\",\n",
    "            f\"Date for COVID case data {last_moving_average_df['date'].tail(1).item()}\",            \n",
    "            f\"Correlation test (Spearman) p-value: {p_val:0.4f}\"\n",
    "              ]\n",
    "        )\n",
    "    .mark_point()\n",
    "    .encode(\n",
    "        y='cases_avg_per_100k:Q',\n",
    "        x=alt.X('Series_Complete_Pop_Pct:Q'),\n",
    "        size = 'population',\n",
    "        tooltip='state',\n",
    "        fill='cases_avg_per_100k'\n",
    "    )\n",
    ")"
   ]
  }
 ],
 "metadata": {
  "kernelspec": {
   "display_name": "Python 3",
   "language": "python",
   "name": "python3"
  },
  "language_info": {
   "codemirror_mode": {
    "name": "ipython",
    "version": 3
   },
   "file_extension": ".py",
   "mimetype": "text/x-python",
   "name": "python",
   "nbconvert_exporter": "python",
   "pygments_lexer": "ipython3",
   "version": "3.9.5"
  }
 },
 "nbformat": 4,
 "nbformat_minor": 5
}
